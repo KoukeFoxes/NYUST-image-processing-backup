{
 "cells": [
  {
   "cell_type": "code",
   "execution_count": 9,
   "metadata": {
    "collapsed": true,
    "executionInfo": {
     "elapsed": 1456,
     "status": "ok",
     "timestamp": 1605693368756,
     "user": {
      "displayName": "賴奎佑",
      "photoUrl": "",
      "userId": "06422944493081277337"
     },
     "user_tz": -480
    },
    "id": "beAHsYJvxyu7"
   },
   "outputs": [],
   "source": [
    "# K-Nearest: KNN\n",
    "# Mixture of Gaussians: MOG2\n",
    "# Geometric Multigid: GMG"
   ]
  },
  {
   "cell_type": "code",
   "execution_count": 10,
   "metadata": {
    "collapsed": true,
    "executionInfo": {
     "elapsed": 1453,
     "status": "ok",
     "timestamp": 1605693368756,
     "user": {
      "displayName": "賴奎佑",
      "photoUrl": "",
      "userId": "06422944493081277337"
     },
     "user_tz": -480
    },
    "id": "jWMLGmijxyu7"
   },
   "outputs": [],
   "source": [
    "# bs = cv2.createBackgroundSubtractorKNN(detectShadows=True)\n",
    "# fg_mask = bs.apply(frame) "
   ]
  },
  {
   "cell_type": "code",
   "execution_count": 11,
   "metadata": {
    "collapsed": true,
    "executionInfo": {
     "elapsed": 1449,
     "status": "ok",
     "timestamp": 1605693368756,
     "user": {
      "displayName": "賴奎佑",
      "photoUrl": "",
      "userId": "06422944493081277337"
     },
     "user_tz": -480
    },
    "id": "yv10wg8exyu7"
   },
   "outputs": [],
   "source": [
    "# bs = cv2.bgsegm.createBackgroundSubtractorMOG(history=history)\n",
    "# bs.setHistory(history)\n",
    "# fg_mask = bs.apply(frame)  "
   ]
  },
  {
   "cell_type": "code",
   "execution_count": 14,
   "metadata": {
    "collapsed": true,
    "executionInfo": {
     "elapsed": 987,
     "status": "ok",
     "timestamp": 1605693375961,
     "user": {
      "displayName": "賴奎佑",
      "photoUrl": "",
      "userId": "06422944493081277337"
     },
     "user_tz": -480
    },
    "id": "kZDCj0Ioxyu7"
   },
   "outputs": [],
   "source": [
    "# Zoran Zivkovic and Ferdinand van der Heijden,\n",
    "# Efficient adaptive density estimation per image pixel for the task of background subtraction\n",
    "# Improved adaptive Gausian mixture model for background subtraction\n",
    "import numpy as np\n",
    "import cv2\n",
    "cap = cv2.VideoCapture('Images01/vtest.avi')\n",
    "fgbg = cv2.createBackgroundSubtractorMOG2()\n",
    "while(cap.isOpened()):\n",
    "    ret, frame = cap.read()\n",
    "    if ret==True:\n",
    "        # frame = cv2.flip(frame, flipCode=1)  \n",
    "        fgmask = fgbg.apply(frame)\n",
    "        cv2.imshow('frame',fgmask)\n",
    "        k = cv2.waitKey(30) & 0xff\n",
    "        if k == 27:\n",
    "            break\n",
    "    else:\n",
    "        break    \n",
    "cap.release()\n",
    "cv2.destroyAllWindows()"
   ]
  },
  {
   "cell_type": "code",
   "execution_count": 18,
   "metadata": {
    "collapsed": true,
    "executionInfo": {
     "elapsed": 1019,
     "status": "ok",
     "timestamp": 1605693414576,
     "user": {
      "displayName": "賴奎佑",
      "photoUrl": "",
      "userId": "06422944493081277337"
     },
     "user_tz": -480
    },
    "id": "fT1mrTSTxyu7"
   },
   "outputs": [],
   "source": [
    "import numpy as np\n",
    "import cv2\n",
    "cap = cv2.VideoCapture('Images01/vtest.avi')\n",
    "kernel = cv2.getStructuringElement(cv2.MORPH_ELLIPSE,(3,3))\n",
    "ffgbg = cv2.createBackgroundSubtractorMOG2()\n",
    "while(cap.isOpened()):\n",
    "    ret, frame = cap.read()\n",
    "    if ret==True:\n",
    "        fgmask = ffgbg.apply(frame)\n",
    "        fgmask = cv2.morphologyEx(fgmask, cv2.MORPH_OPEN, kernel)\n",
    "        cv2.imshow('frame',fgmask)\n",
    "        k = cv2.waitKey(30) & 0xff\n",
    "        if k == 27:\n",
    "            break\n",
    "    else:\n",
    "        break    \n",
    "cap.release()\n",
    "cv2.destroyAllWindows()"
   ]
  },
  {
   "cell_type": "code",
   "execution_count": 17,
   "metadata": {
    "collapsed": true,
    "executionInfo": {
     "elapsed": 1210,
     "status": "ok",
     "timestamp": 1605693411830,
     "user": {
      "displayName": "賴奎佑",
      "photoUrl": "",
      "userId": "06422944493081277337"
     },
     "user_tz": -480
    },
    "id": "6dU2CQNzyIiT"
   },
   "outputs": [],
   "source": []
  }
 ],
 "metadata": {
  "colab": {
   "name": "19_Background_Subtractor.ipynb",
   "provenance": []
  },
  "kernelspec": {
   "display_name": "Python 3",
   "language": "python",
   "name": "python3"
  },
  "language_info": {
   "codemirror_mode": {
    "name": "ipython",
    "version": 3
   },
   "file_extension": ".py",
   "mimetype": "text/x-python",
   "name": "python",
   "nbconvert_exporter": "python",
   "pygments_lexer": "ipython3",
   "version": "3.5.3"
  }
 },
 "nbformat": 4,
 "nbformat_minor": 1
}
