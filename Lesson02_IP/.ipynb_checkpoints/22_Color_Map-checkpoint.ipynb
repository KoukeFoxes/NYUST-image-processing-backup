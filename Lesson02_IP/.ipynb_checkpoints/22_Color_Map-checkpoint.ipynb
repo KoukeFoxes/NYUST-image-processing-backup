{
 "cells": [
  {
   "cell_type": "code",
   "execution_count": 1,
   "metadata": {
    "collapsed": true,
    "executionInfo": {
     "elapsed": 7008,
     "status": "ok",
     "timestamp": 1605698197063,
     "user": {
      "displayName": "賴奎佑",
      "photoUrl": "",
      "userId": "06422944493081277337"
     },
     "user_tz": -480
    },
    "id": "9AcFVIxyDcpZ"
   },
   "outputs": [],
   "source": [
    "import cv2\n",
    "# COLORMAP_AUTUMN = 0,\n",
    "# COLORMAP_BONE = 1,\n",
    "# COLORMAP_JET = 2,\n",
    "# COLORMAP_WINTER = 3,\n",
    "# COLORMAP_RAINBOW = 4,\n",
    "# COLORMAP_OCEAN = 5,\n",
    "# COLORMAP_SUMMER = 6,\n",
    "# COLORMAP_SPRING = 7,\n",
    "# COLORMAP_COOL = 8,\n",
    "# COLORMAP_HSV = 9,\n",
    "# COLORMAP_PINK = 10,\n",
    "# COLORMAP_HOT = 11\n",
    "img = cv2.imread(\"Images02/girl.png\")\n",
    "for i in range(0, 13):\n",
    "    im_color = cv2.applyColorMap(img, i)\n",
    "    cv2.imwrite(\"Images02/\"+\"{}.jpg\".format(i), im_color)"
   ]
  },
  {
   "cell_type": "code",
   "execution_count": null,
   "metadata": {
    "collapsed": true,
    "id": "qwlo5bg-DcpZ"
   },
   "outputs": [],
   "source": [
    "# https://stackoverflow.com/questions/52676020/opencv-src-empty-in-function-cvtcolor-error"
   ]
  }
 ],
 "metadata": {
  "colab": {
   "name": "24_Color_Map.ipynb",
   "provenance": []
  },
  "kernelspec": {
   "display_name": "Python 3",
   "language": "python",
   "name": "python3"
  },
  "language_info": {
   "codemirror_mode": {
    "name": "ipython",
    "version": 3
   },
   "file_extension": ".py",
   "mimetype": "text/x-python",
   "name": "python",
   "nbconvert_exporter": "python",
   "pygments_lexer": "ipython3",
   "version": "3.5.3"
  }
 },
 "nbformat": 4,
 "nbformat_minor": 1
}
