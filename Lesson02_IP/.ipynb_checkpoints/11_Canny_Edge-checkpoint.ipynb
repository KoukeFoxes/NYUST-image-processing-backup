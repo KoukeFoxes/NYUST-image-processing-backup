{
 "cells": [
  {
   "cell_type": "code",
   "execution_count": 1,
   "metadata": {
    "colab": {
     "base_uri": "https://localhost:8080/"
    },
    "executionInfo": {
     "elapsed": 19764,
     "status": "ok",
     "timestamp": 1605680928562,
     "user": {
      "displayName": "賴奎佑",
      "photoUrl": "",
      "userId": "06422944493081277337"
     },
     "user_tz": -480
    },
    "id": "-TKTuqPTCjJi",
    "outputId": "2c30e7b8-9b2e-400b-f229-b899d59548ac"
   },
   "outputs": [
    {
     "name": "stdout",
     "output_type": "stream",
     "text": [
      "Mounted at /content/drive\n"
     ]
    }
   ],
   "source": [
    "from google.colab import drive\n",
    "drive.mount('/content/drive')"
   ]
  },
  {
   "cell_type": "code",
   "execution_count": null,
   "metadata": {
    "collapsed": true,
    "id": "2H_KrC_NCf9n"
   },
   "outputs": [],
   "source": [
    "import cv2 \n",
    "import numpy as np\n",
    "\n",
    "def nothing(x):\n",
    "    pass\n",
    "\n",
    "cv2.namedWindow('canny_demo')\n",
    "cv2.createTrackbar('threshold',      'canny_demo', 0, 100, nothing)\n",
    "cv2.createTrackbar('increase_ratio', 'canny_demo', 0, 5,   nothing)\n",
    "\n",
    "image = cv2.imread(\"/content/drive/MyDrive/Colab Notebooks/Lesson04_IP.rar (Unzipped Files)/Images_New/Lena256_24bits.bmp\")\n",
    "\n",
    "while True:\n",
    "    threshold = cv2.getTrackbarPos('threshold',      'canny_demo')\n",
    "    ratio     = cv2.getTrackbarPos('increase_ratio', 'canny_demo')\n",
    "\n",
    "    gray = cv2.cvtColor(image, cv2.COLOR_BGR2GRAY)\n",
    "    edges = cv2.GaussianBlur(gray, (5, 5), 0)\n",
    "    #edge = cv2.Canny(image, threshold1, threshold2[, edges[, apertureSize[, L2gradient ]]]) \n",
    "    edges = cv2.Canny(edges, threshold, threshold*ratio, apertureSize=3)\n",
    "    cv2.imshow('canny_demo', edges)\n",
    "\n",
    "    if cv2.waitKey(1) & 0xFF == ord(\"q\"):\n",
    "        cv2.imwrite(\"canny_demo.png\", edges)\n",
    "        break\n",
    "\n",
    "cv2.destroyAllWindows()   "
   ]
  },
  {
   "cell_type": "code",
   "execution_count": null,
   "metadata": {
    "collapsed": true,
    "id": "N20rYxisCtNe"
   },
   "outputs": [],
   "source": []
  }
 ],
 "metadata": {
  "colab": {
   "name": "11_Canny_Edge.ipynb",
   "provenance": []
  },
  "kernelspec": {
   "display_name": "Python 3",
   "language": "python",
   "name": "python3"
  },
  "language_info": {
   "codemirror_mode": {
    "name": "ipython",
    "version": 3
   },
   "file_extension": ".py",
   "mimetype": "text/x-python",
   "name": "python",
   "nbconvert_exporter": "python",
   "pygments_lexer": "ipython3",
   "version": "3.5.3"
  }
 },
 "nbformat": 4,
 "nbformat_minor": 1
}
