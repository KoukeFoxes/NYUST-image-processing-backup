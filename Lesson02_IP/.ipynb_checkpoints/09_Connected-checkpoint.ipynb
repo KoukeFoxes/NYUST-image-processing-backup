{
 "cells": [
  {
   "cell_type": "code",
   "execution_count": 1,
   "metadata": {
    "colab": {
     "base_uri": "https://localhost:8080/",
     "height": 286
    },
    "executionInfo": {
     "elapsed": 2866,
     "status": "ok",
     "timestamp": 1605681129124,
     "user": {
      "displayName": "賴奎佑",
      "photoUrl": "",
      "userId": "06422944493081277337"
     },
     "user_tz": -480
    },
    "id": "dChGvmBgDG4k",
    "outputId": "cbcfcb96-60ed-452a-e185-45ba037e176b"
   },
   "outputs": [
    {
     "name": "stdout",
     "output_type": "stream",
     "text": [
      "(241, 322)\n"
     ]
    },
    {
     "data": {
      "image/png": "[encoded data removed]",
      "text/plain": [
       "<matplotlib.figure.Figure at 0x1c2851aa6d8>"
      ]
     },
     "metadata": {},
     "output_type": "display_data"
    }
   ],
   "source": [
    "import numpy as np\n",
    "import cv2\n",
    "import os\n",
    "from matplotlib import pyplot as plt\n",
    "img0 = cv2.imread(\"Images01/8iSST.png\", cv2.IMREAD_GRAYSCALE)\n",
    "print(img0.shape)\n",
    "plt.imshow(img0,plt.cm.gray)\n",
    "plt.show()"
   ]
  },
  {
   "cell_type": "code",
   "execution_count": 2,
   "metadata": {
    "colab": {
     "base_uri": "https://localhost:8080/"
    },
    "executionInfo": {
     "elapsed": 2861,
     "status": "ok",
     "timestamp": 1605681129125,
     "user": {
      "displayName": "賴奎佑",
      "photoUrl": "",
      "userId": "06422944493081277337"
     },
     "user_tz": -480
    },
    "id": "OQHuFfvcDG4k",
    "outputId": "0b1ad94e-b7b4-4ee5-8841-18940667ef80"
   },
   "outputs": [
    {
     "name": "stdout",
     "output_type": "stream",
     "text": [
      "<class 'tuple'>\n"
     ]
    }
   ],
   "source": [
    "# input image is thresholded\n",
    "(T, thresh) = cv2.threshold(img0, 90, 255, cv2.THRESH_BINARY)\n",
    "\n",
    "# getting the labels of the connected components\n",
    "# input 8-bit single-channel (binary)\n",
    "# 4- or 8-connected components\n",
    "#Output label type (CV_32S or CV_16U)\n",
    "output = cv2.connectedComponentsWithStats(thresh, 4, cv2.CV_32S)\n",
    "print(type(output))\n",
    "\n",
    "# nlabels, labels, stats, centroids = cv2.connectedComponentsWithStats(thresh, 4, cv2.CV_32S)\n",
    "# print(nlabels)\n",
    "# print(labels.shape)\n",
    "# print(stats)\n",
    "# print(centroids)"
   ]
  },
  {
   "cell_type": "code",
   "execution_count": null,
   "metadata": {
    "colab": {
     "base_uri": "https://localhost:8080/",
     "height": 303
    },
    "executionInfo": {
     "elapsed": 2857,
     "status": "ok",
     "timestamp": 1605681129125,
     "user": {
      "displayName": "賴奎佑",
      "photoUrl": "",
      "userId": "06422944493081277337"
     },
     "user_tz": -480
    },
    "id": "OuImhB4MDG4l",
    "outputId": "e833ff13-b74f-49d9-b521-460a90ebc5d1"
   },
   "outputs": [
    {
     "name": "stdout",
     "output_type": "stream",
     "text": [
      "12\n",
      "int32\n"
     ]
    },
    {
     "data": {
      "image/png": "[encoded data removed]",
      "text/plain": [
       "<Figure size 432x288 with 1 Axes>"
      ]
     },
     "metadata": {
      "needs_background": "light",
      "tags": []
     },
     "output_type": "display_data"
    }
   ],
   "source": [
    "num_labels = output[0]\n",
    "labels = output[1]\n",
    "stats = output[2]\n",
    "centroids = output[3]\n",
    "\n",
    "print(num_labels)\n",
    "print(labels.dtype)\n",
    "\n",
    "b = (labels == 3) # \n",
    "b = b.astype('uint8')*255\n",
    "plt.imshow(b,plt.cm.gray)\n",
    "plt.show()"
   ]
  },
  {
   "cell_type": "code",
   "execution_count": null,
   "metadata": {
    "collapsed": true,
    "id": "0XKN4GJyDG4l"
   },
   "outputs": [],
   "source": []
  }
 ],
 "metadata": {
  "colab": {
   "name": "12_Connected.ipynb",
   "provenance": []
  },
  "kernelspec": {
   "display_name": "Python 3",
   "language": "python",
   "name": "python3"
  },
  "language_info": {
   "codemirror_mode": {
    "name": "ipython",
    "version": 3
   },
   "file_extension": ".py",
   "mimetype": "text/x-python",
   "name": "python",
   "nbconvert_exporter": "python",
   "pygments_lexer": "ipython3",
   "version": "3.5.3"
  }
 },
 "nbformat": 4,
 "nbformat_minor": 1
}
